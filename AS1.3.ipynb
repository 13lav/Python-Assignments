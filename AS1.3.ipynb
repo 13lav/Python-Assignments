{
 "cells": [
  {
   "cell_type": "code",
   "execution_count": null,
   "metadata": {},
   "outputs": [
    {
     "name": "stdout",
     "output_type": "stream",
     "text": [
      "Do you want to make an Entry (Y/N) :y\n",
      "\n",
      "For Deposite Entry - Enter (D) \n",
      "For Withdrawl Entry - Enter (W) \n",
      "\n",
      "Choose input(D/W) : 5000\n",
      "\n",
      "Wrong Input!!!\n",
      "Do you want to make an Entry (Y/N) :y\n",
      "\n",
      "For Deposite Entry - Enter (D) \n",
      "For Withdrawl Entry - Enter (W) \n",
      "\n",
      "Choose input(D/W) : d\n",
      "\n",
      "Enter Deposite Amount : 5000\n",
      "Do you want to make an Entry (Y/N) :y\n",
      "\n",
      "For Deposite Entry - Enter (D) \n",
      "For Withdrawl Entry - Enter (W) \n",
      "\n",
      "Choose input(D/W) : 2000\n",
      "\n",
      "Wrong Input!!!\n",
      "Do you want to make an Entry (Y/N) :y\n",
      "\n",
      "For Deposite Entry - Enter (D) \n",
      "For Withdrawl Entry - Enter (W) \n",
      "\n",
      "Choose input(D/W) : d\n",
      "\n",
      "Enter Deposite Amount : 3000\n",
      "Do you want to make an Entry (Y/N) :y\n",
      "\n",
      "For Deposite Entry - Enter (D) \n",
      "For Withdrawl Entry - Enter (W) \n",
      "\n",
      "Choose input(D/W) : w\n",
      "\n",
      "Enter Withdrawl Amount : 1000\n",
      "Do you want to make an Entry (Y/N) :y\n",
      "\n",
      "For Deposite Entry - Enter (D) \n",
      "For Withdrawl Entry - Enter (W) \n",
      "\n",
      "Choose input(D/W) : w\n",
      "\n",
      "Enter Withdrawl Amount : 500\n",
      "Do you want to make an Entry (Y/N) :n\n",
      "\n",
      "For Deposite Entry - Enter (D) \n",
      "For Withdrawl Entry - Enter (W) \n",
      "\n",
      "Choose input(D/W) : m\n",
      "\n",
      "Wrong Input!!!\n",
      "Do you want to make an Entry (Y/N) :N\n",
      "\n",
      "For Deposite Entry - Enter (D) \n",
      "For Withdrawl Entry - Enter (W) \n"
     ]
    }
   ],
   "source": [
    "d=0\n",
    "w=0\n",
    "flag=0\n",
    "\n",
    "while flag != \"N\" or flag != \"n\":\n",
    "\n",
    "    flag = input(\"Do you want to make an Entry (Y/N) :\")\n",
    "  \n",
    "    print(\"\\nFor Deposite Entry - Enter (D) \\nFor Withdrawl Entry - Enter (W) \")\n",
    "\n",
    "    i = input(\"\\nChoose input(D/W) : \")\n",
    "    \n",
    "    if i == \"D\" or i == \"d\":\n",
    "        d += int(input(\"\\nEnter Deposite Amount : \"))\n",
    "    elif i == \"W\" or i == \"w\":\n",
    "        w += int(input(\"\\nEnter Withdrawl Amount : \"))\n",
    "    else:\n",
    "        print(\"\\nWrong Input!!!\")\n",
    "\n",
    "balance = d+w\n",
    "\n",
    "print(\"\\n Balance = \", balance)"
   ]
  },
  {
   "cell_type": "code",
   "execution_count": null,
   "metadata": {
    "collapsed": true
   },
   "outputs": [],
   "source": []
  }
 ],
 "metadata": {
  "kernelspec": {
   "display_name": "Python 3",
   "language": "python",
   "name": "python3"
  },
  "language_info": {
   "codemirror_mode": {
    "name": "ipython",
    "version": 3
   },
   "file_extension": ".py",
   "mimetype": "text/x-python",
   "name": "python",
   "nbconvert_exporter": "python",
   "pygments_lexer": "ipython3",
   "version": "3.6.1"
  }
 },
 "nbformat": 4,
 "nbformat_minor": 2
}
