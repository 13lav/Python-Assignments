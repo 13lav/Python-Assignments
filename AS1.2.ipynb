{
 "cells": [
  {
   "cell_type": "code",
   "execution_count": 15,
   "metadata": {},
   "outputs": [
    {
     "name": "stdout",
     "output_type": "stream",
     "text": [
      "Enter no. of rows : 3\n",
      "Enter no. of columns : 3\n",
      "\n",
      "\n",
      "1 2 3 \n",
      "\n",
      "2 4 6 \n",
      "\n",
      "3 6 9 "
     ]
    }
   ],
   "source": [
    "i = int(input(\"Enter no. of rows : \"))\n",
    "j = int(input(\"Enter no. of columns : \"))\n",
    "\n",
    "mat = []\n",
    "\n",
    "for x in range(i) :\n",
    "    a =[]\n",
    "    for y in range(j) :\n",
    "        a.append((x+1) * (y+1)) \n",
    "    mat.append(a)\n",
    "    \n",
    "for x in range(i) :\n",
    "    print(\"\\n\")\n",
    "    for y in range(j) :\n",
    "        print(mat[x][y], end = \" \")\n",
    "       "
   ]
  },
  {
   "cell_type": "code",
   "execution_count": null,
   "metadata": {
    "collapsed": true
   },
   "outputs": [],
   "source": []
  }
 ],
 "metadata": {
  "kernelspec": {
   "display_name": "Python 3",
   "language": "python",
   "name": "python3"
  },
  "language_info": {
   "codemirror_mode": {
    "name": "ipython",
    "version": 3
   },
   "file_extension": ".py",
   "mimetype": "text/x-python",
   "name": "python",
   "nbconvert_exporter": "python",
   "pygments_lexer": "ipython3",
   "version": "3.6.1"
  }
 },
 "nbformat": 4,
 "nbformat_minor": 2
}
